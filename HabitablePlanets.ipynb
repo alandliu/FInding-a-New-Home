{
 "cells": [
  {
   "cell_type": "code",
   "execution_count": 2,
   "id": "dea9d520",
   "metadata": {},
   "outputs": [],
   "source": [
    "import numpy as np\n",
    "\n",
    "habitable_planets = np.array([\"Teegarden's Star b\", \"TOI-700 d\", \"K2-72 e\", \"TRAPPIST-1 d\", \"Kepler-1649 c\", \n",
    "          \"Proxima Cen b\", \"GJ 1061 d\", \"GJ 1061 c\", \"Ross 128 b\", \"GJ 273 b\", \"TRAPPIST-1 e\", \"Kepler-442 b\",\n",
    "            \"Wolf 1061 c\", \"GJ 667 C c\", \"GJ 667 C f\", \"Kepler-1229 b\", \"TRAPPIST-1 f\", \"Kepler-186 f\", \"GJ 667 C e\", \n",
    "            \"tau Cet f\", \"TRAPPIST-1 g\", \"GJ 682 b\", \"Kepler-452 b\", \"Kepler-62 e\", \"Kepler-1652 b\", \"Kepler-1544 b\",\n",
    "            \"Kepler-296 e\", \"Kepler-283 c\", \"K2- 296 b\", \"Kepler-1410 b\", \"K2-3 d\", \"Kepler-1638 b\", \"Kepler-296 f\",\n",
    "            \"Kepler-440 b\", \"Kepler-705 b\", \"Kepler-1653 b\", \"GJ 832 c\", \"Kepler-1606 b\", \"Kepler-1090 b\", \"Kepler-61 b\",\n",
    "            \"K2-18 b\", \"Kepler-443 b\", \"Kepler-1701 b\", \"Kepler-22 b\", \"LHS 1140 b\", \"Kepler-1552 b\", \"K2-9 b\", \n",
    "            \"Kepler-1540 b\", \"GJ 163 c\", \"HD 40307 g\", \"K2-288 B b\", \"GJ 3293 d\", \"GJ 229 A c\", \"Kepler-174 d\", \"GJ 357 d\"\n",
    "          ])"
   ]
  },
  {
   "cell_type": "code",
   "execution_count": null,
   "id": "3ceb2dfa",
   "metadata": {},
   "outputs": [],
   "source": []
  }
 ],
 "metadata": {
  "kernelspec": {
   "display_name": "Python 3",
   "language": "python",
   "name": "python3"
  },
  "language_info": {
   "codemirror_mode": {
    "name": "ipython",
    "version": 3
   },
   "file_extension": ".py",
   "mimetype": "text/x-python",
   "name": "python",
   "nbconvert_exporter": "python",
   "pygments_lexer": "ipython3",
   "version": "3.8.8"
  }
 },
 "nbformat": 4,
 "nbformat_minor": 5
}
