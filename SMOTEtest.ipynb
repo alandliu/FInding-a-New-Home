{
 "cells": [
  {
   "cell_type": "code",
   "execution_count": 65,
   "id": "ca77d42d",
   "metadata": {},
   "outputs": [
    {
     "name": "stdout",
     "output_type": "stream",
     "text": [
      "(60, 25) (4366, 25) (4426, 25)\n",
      "(60,) (4366,) (4426,)\n",
      "[0 1 1 ... 0 0 0]\n"
     ]
    }
   ],
   "source": [
    "import numpy as np\n",
    "import numpy.ma as ma\n",
    "import pandas as pd\n",
    "from keras.models import Sequential\n",
    "from keras.layers import Dense\n",
    "from habitablePlanets import habitable_planets\n",
    "\n",
    "exoplanets = pd.read_csv(\"exoplanets3.csv\", sep=\",\")\n",
    "training_data = np.array(exoplanets[:])\n",
    "\n",
    "'''print(training_data.shape)\n",
    "print(training_data)'''\n",
    "\n",
    "habitable_x = np.array([np.array(training_data[0, :])])\n",
    "habitable_y = np.array([0])\n",
    "uninhabitable_x = np.array([np.array(training_data[0, :])])\n",
    "uninhabitable_y = np.array([0])\n",
    "\n",
    "for i in training_data:\n",
    "    if i[0] in habitable_planets:\n",
    "        habitable_x = np.append(habitable_x, np.array([np.array(i)]), axis = 0)\n",
    "        habitable_y = np.append(habitable_y, 1)\n",
    "        \n",
    "\n",
    "for i in training_data:\n",
    "    if i[0] not in habitable_planets:\n",
    "        uninhabitable_x = np.append(uninhabitable_x, np.array([np.array(i)]), axis = 0)\n",
    "        uninhabitable_y = np.append(uninhabitable_y, 0)\n",
    "\n",
    "        \n",
    "training_x = np.append(habitable_x[:, 1:], uninhabitable_x[:, 1:], axis = 0)\n",
    "training_y = np.append(habitable_y, uninhabitable_y, axis = 0)\n",
    "\n",
    "habitable_x = habitable_x[:, 1:]\n",
    "uninhabitable_x = uninhabitable_x[:, 1:]\n",
    "\n",
    "print(habitable_x.shape, uninhabitable_x.shape, training_x.shape)\n",
    "print(habitable_y.shape, uninhabitable_y.shape, training_y.shape)"
   ]
  },
  {
   "cell_type": "code",
   "execution_count": 58,
   "id": "b78ebffd",
   "metadata": {},
   "outputs": [],
   "source": [
    "from imblearn.combine import SMOTETomek\n",
    "from imblearn.over_sampling import SMOTE\n",
    "from imblearn.under_sampling import NearMiss"
   ]
  },
  {
   "cell_type": "code",
   "execution_count": 76,
   "id": "3fdcbd9e",
   "metadata": {},
   "outputs": [],
   "source": [
    "training_x = np.asarray(training_x).astype(np.float32)\n",
    "training_x = np.where(np.isnan(training_x), ma.array(training_x, mask=np.isnan(training_x)).mean(axis=0), training_x)\n",
    "habitable_x = np.asarray(habitable_x).astype(np.float32)\n",
    "habitable_x = np.where(np.isnan(habitable_x), ma.array(habitable_x, mask=np.isnan(habitable_x)).mean(axis=0), habitable_x)\n",
    "uninhabitable_x = np.asarray(uninhabitable_x).astype(np.float32)\n",
    "uninhabitable_x = np.where(np.isnan(uninhabitable_x), ma.array(uninhabitable_x, mask=np.isnan(uninhabitable_x)).mean(axis=0), uninhabitable_x)"
   ]
  },
  {
   "cell_type": "code",
   "execution_count": 77,
   "id": "965baf0e",
   "metadata": {},
   "outputs": [
    {
     "name": "stdout",
     "output_type": "stream",
     "text": [
      "(8734, 25) (8734,)\n"
     ]
    }
   ],
   "source": [
    "oversample = SMOTE()\n",
    "x_res, y_res = oversample.fit_resample(training_x, training_y)\n",
    "print(x_res.shape, y_res.shape)"
   ]
  },
  {
   "cell_type": "code",
   "execution_count": 78,
   "id": "4d8d121b",
   "metadata": {},
   "outputs": [],
   "source": [
    "from collections import Counter"
   ]
  },
  {
   "cell_type": "code",
   "execution_count": 80,
   "id": "c58777bf",
   "metadata": {},
   "outputs": [
    {
     "name": "stdout",
     "output_type": "stream",
     "text": [
      "OG dataset shape: Counter({0: 4367, 1: 59})\n",
      "New dataset shape: Counter({0: 4367, 1: 4367})\n"
     ]
    }
   ],
   "source": [
    "print(\"OG dataset shape: {}\".format(Counter(training_y)))\n",
    "print(\"New dataset shape: {}\".format(Counter(y_res)))"
   ]
  },
  {
   "cell_type": "code",
   "execution_count": 81,
   "id": "504e53fd",
   "metadata": {},
   "outputs": [
    {
     "name": "stdout",
     "output_type": "stream",
     "text": [
      "(8734, 25) (8734,)\n"
     ]
    }
   ],
   "source": [
    "from imblearn.over_sampling import RandomOverSampler\n",
    "os = SMOTE(sampling_strategy = 1)\n",
    "x_train_res, y_train_res = os.fit_resample(training_x, training_y)\n",
    "print(x_train_res.shape, y_train_res.shape)"
   ]
  },
  {
   "cell_type": "code",
   "execution_count": 83,
   "id": "5fd8ff62",
   "metadata": {},
   "outputs": [
    {
     "name": "stdout",
     "output_type": "stream",
     "text": [
      "Epoch 1/100\n",
      "874/874 [==============================] - 1s 1ms/step - loss: 0.6389 - accuracy: 0.6020\n",
      "Epoch 2/100\n",
      "874/874 [==============================] - 1s 1ms/step - loss: 0.5077 - accuracy: 0.7450\n",
      "Epoch 3/100\n",
      "874/874 [==============================] - 1s 1ms/step - loss: 0.2733 - accuracy: 0.9164\n",
      "Epoch 4/100\n",
      "874/874 [==============================] - 1s 1ms/step - loss: 0.2375 - accuracy: 0.9237\n",
      "Epoch 5/100\n",
      "874/874 [==============================] - 1s 1ms/step - loss: 0.2644 - accuracy: 0.9155\n",
      "Epoch 6/100\n",
      "874/874 [==============================] - 1s 1ms/step - loss: 0.2898 - accuracy: 0.8919\n",
      "Epoch 7/100\n",
      "874/874 [==============================] - 1s 1ms/step - loss: 0.2501 - accuracy: 0.8999\n",
      "Epoch 8/100\n",
      "874/874 [==============================] - 1s 1ms/step - loss: 0.2576 - accuracy: 0.9075\n",
      "Epoch 9/100\n",
      "874/874 [==============================] - 1s 1ms/step - loss: 0.2689 - accuracy: 0.9041\n",
      "Epoch 10/100\n",
      "874/874 [==============================] - 1s 1ms/step - loss: 0.2766 - accuracy: 0.8881\n",
      "Epoch 11/100\n",
      "874/874 [==============================] - 1s 1ms/step - loss: 0.2323 - accuracy: 0.9118\n",
      "Epoch 12/100\n",
      "874/874 [==============================] - 2s 2ms/step - loss: 0.1938 - accuracy: 0.9387\n",
      "Epoch 13/100\n",
      "874/874 [==============================] - 2s 2ms/step - loss: 0.1883 - accuracy: 0.9394\n",
      "Epoch 14/100\n",
      "874/874 [==============================] - ETA: 0s - loss: 0.1836 - accuracy: 0.94 - 1s 2ms/step - loss: 0.1850 - accuracy: 0.9421\n",
      "Epoch 15/100\n",
      "874/874 [==============================] - 2s 2ms/step - loss: 0.2038 - accuracy: 0.9393\n",
      "Epoch 16/100\n",
      "874/874 [==============================] - 2s 2ms/step - loss: 0.2040 - accuracy: 0.9363\n",
      "Epoch 17/100\n",
      "874/874 [==============================] - 2s 2ms/step - loss: 0.1912 - accuracy: 0.9448\n",
      "Epoch 18/100\n",
      "874/874 [==============================] - 2s 2ms/step - loss: 0.1802 - accuracy: 0.9428\n",
      "Epoch 19/100\n",
      "874/874 [==============================] - 2s 2ms/step - loss: 0.2002 - accuracy: 0.9342\n",
      "Epoch 20/100\n",
      "874/874 [==============================] - 1s 2ms/step - loss: 0.1869 - accuracy: 0.9392\n",
      "Epoch 21/100\n",
      "874/874 [==============================] - 2s 2ms/step - loss: 0.1742 - accuracy: 0.9407\n",
      "Epoch 22/100\n",
      "874/874 [==============================] - 2s 2ms/step - loss: 0.1801 - accuracy: 0.9410\n",
      "Epoch 23/100\n",
      "874/874 [==============================] - 2s 2ms/step - loss: 0.2136 - accuracy: 0.9154\n",
      "Epoch 24/100\n",
      "874/874 [==============================] - 2s 2ms/step - loss: 0.1750 - accuracy: 0.9452\n",
      "Epoch 25/100\n",
      "874/874 [==============================] - 2s 2ms/step - loss: 0.2250 - accuracy: 0.9160\n",
      "Epoch 26/100\n",
      "874/874 [==============================] - 1s 2ms/step - loss: 0.2305 - accuracy: 0.9220\n",
      "Epoch 27/100\n",
      "874/874 [==============================] - 1s 2ms/step - loss: 0.2204 - accuracy: 0.9324\n",
      "Epoch 28/100\n",
      "874/874 [==============================] - 2s 2ms/step - loss: 0.2113 - accuracy: 0.9297\n",
      "Epoch 29/100\n",
      "874/874 [==============================] - 1s 2ms/step - loss: 0.1800 - accuracy: 0.9493\n",
      "Epoch 30/100\n",
      "874/874 [==============================] - 1s 2ms/step - loss: 0.1728 - accuracy: 0.9393\n",
      "Epoch 31/100\n",
      "874/874 [==============================] - 1s 2ms/step - loss: 0.1475 - accuracy: 0.9583\n",
      "Epoch 32/100\n",
      "874/874 [==============================] - 2s 2ms/step - loss: 0.1744 - accuracy: 0.9421\n",
      "Epoch 33/100\n",
      "874/874 [==============================] - 1s 2ms/step - loss: 0.1588 - accuracy: 0.9446\n",
      "Epoch 34/100\n",
      "874/874 [==============================] - 2s 2ms/step - loss: 0.1618 - accuracy: 0.9513\n",
      "Epoch 35/100\n",
      "874/874 [==============================] - 1s 2ms/step - loss: 0.1532 - accuracy: 0.9520\n",
      "Epoch 36/100\n",
      "874/874 [==============================] - 1s 2ms/step - loss: 0.1808 - accuracy: 0.9476\n",
      "Epoch 37/100\n",
      "874/874 [==============================] - 2s 2ms/step - loss: 0.1445 - accuracy: 0.9549\n",
      "Epoch 38/100\n",
      "874/874 [==============================] - 1s 2ms/step - loss: 0.1537 - accuracy: 0.9507\n",
      "Epoch 39/100\n",
      "874/874 [==============================] - 2s 2ms/step - loss: 0.1786 - accuracy: 0.9424\n",
      "Epoch 40/100\n",
      "874/874 [==============================] - 2s 2ms/step - loss: 0.1526 - accuracy: 0.9534\n",
      "Epoch 41/100\n",
      "874/874 [==============================] - 2s 2ms/step - loss: 0.1470 - accuracy: 0.9456\n",
      "Epoch 42/100\n",
      "874/874 [==============================] - 1s 2ms/step - loss: 0.1425 - accuracy: 0.9512\n",
      "Epoch 43/100\n",
      "874/874 [==============================] - 1s 2ms/step - loss: 0.1592 - accuracy: 0.9511\n",
      "Epoch 44/100\n",
      "874/874 [==============================] - 2s 2ms/step - loss: 0.1887 - accuracy: 0.9407\n",
      "Epoch 45/100\n",
      "874/874 [==============================] - 2s 2ms/step - loss: 0.1529 - accuracy: 0.9605\n",
      "Epoch 46/100\n",
      "874/874 [==============================] - 1s 2ms/step - loss: 0.1538 - accuracy: 0.9604\n",
      "Epoch 47/100\n",
      "874/874 [==============================] - 2s 2ms/step - loss: 0.2427 - accuracy: 0.9173\n",
      "Epoch 48/100\n",
      "874/874 [==============================] - 2s 2ms/step - loss: 0.1561 - accuracy: 0.9569\n",
      "Epoch 49/100\n",
      "874/874 [==============================] - 2s 2ms/step - loss: 0.1524 - accuracy: 0.9581\n",
      "Epoch 50/100\n",
      "874/874 [==============================] - 2s 2ms/step - loss: 0.1483 - accuracy: 0.9589\n",
      "Epoch 51/100\n",
      "874/874 [==============================] - 2s 2ms/step - loss: 0.1397 - accuracy: 0.9610\n",
      "Epoch 52/100\n",
      "874/874 [==============================] - 2s 2ms/step - loss: 0.1419 - accuracy: 0.9638\n",
      "Epoch 53/100\n",
      "874/874 [==============================] - 1s 2ms/step - loss: 0.1296 - accuracy: 0.9600\n",
      "Epoch 54/100\n",
      "874/874 [==============================] - 2s 2ms/step - loss: 0.1941 - accuracy: 0.9436\n",
      "Epoch 55/100\n",
      "874/874 [==============================] - 1s 2ms/step - loss: 0.1710 - accuracy: 0.9455\n",
      "Epoch 56/100\n",
      "874/874 [==============================] - 2s 2ms/step - loss: 0.1707 - accuracy: 0.9454\n",
      "Epoch 57/100\n",
      "874/874 [==============================] - 2s 2ms/step - loss: 0.1496 - accuracy: 0.9494\n",
      "Epoch 58/100\n",
      "874/874 [==============================] - 1s 2ms/step - loss: 0.1462 - accuracy: 0.9518\n",
      "Epoch 59/100\n",
      "874/874 [==============================] - 1s 2ms/step - loss: 0.1353 - accuracy: 0.9561\n",
      "Epoch 60/100\n",
      "874/874 [==============================] - 2s 2ms/step - loss: 0.1368 - accuracy: 0.9639\n",
      "Epoch 61/100\n",
      "874/874 [==============================] - 1s 2ms/step - loss: 0.1396 - accuracy: 0.9594\n",
      "Epoch 62/100\n",
      "874/874 [==============================] - 1s 2ms/step - loss: 0.1477 - accuracy: 0.9565\n",
      "Epoch 63/100\n",
      "874/874 [==============================] - 1s 2ms/step - loss: 0.1500 - accuracy: 0.9484\n",
      "Epoch 64/100\n",
      "874/874 [==============================] - 2s 3ms/step - loss: 0.1420 - accuracy: 0.9580: 0s -\n",
      "Epoch 65/100\n",
      "874/874 [==============================] - 1s 2ms/step - loss: 0.1338 - accuracy: 0.9582\n",
      "Epoch 66/100\n",
      "874/874 [==============================] - 1s 2ms/step - loss: 0.1614 - accuracy: 0.9473\n",
      "Epoch 67/100\n",
      "874/874 [==============================] - 1s 1ms/step - loss: 0.1611 - accuracy: 0.9423\n",
      "Epoch 68/100\n",
      "874/874 [==============================] - ETA: 0s - loss: 0.1692 - accuracy: 0.94 - 1s 1ms/step - loss: 0.1679 - accuracy: 0.9449\n",
      "Epoch 69/100\n",
      "874/874 [==============================] - 1s 1ms/step - loss: 0.1317 - accuracy: 0.9572\n",
      "Epoch 70/100\n",
      "874/874 [==============================] - 1s 1ms/step - loss: 0.1921 - accuracy: 0.9321\n",
      "Epoch 71/100\n",
      "874/874 [==============================] - 1s 1ms/step - loss: 0.1315 - accuracy: 0.9581\n",
      "Epoch 72/100\n",
      "874/874 [==============================] - 1s 1ms/step - loss: 0.1453 - accuracy: 0.9564\n",
      "Epoch 73/100\n",
      "874/874 [==============================] - 1s 1ms/step - loss: 0.1307 - accuracy: 0.9573\n",
      "Epoch 74/100\n",
      "874/874 [==============================] - 1s 1ms/step - loss: 0.1523 - accuracy: 0.9531\n",
      "Epoch 75/100\n",
      "874/874 [==============================] - 1s 1ms/step - loss: 0.1419 - accuracy: 0.9576\n",
      "Epoch 76/100\n",
      "874/874 [==============================] - 1s 1ms/step - loss: 0.1586 - accuracy: 0.9428\n",
      "Epoch 77/100\n",
      "874/874 [==============================] - 1s 1ms/step - loss: 0.1677 - accuracy: 0.9482\n",
      "Epoch 78/100\n",
      "874/874 [==============================] - 1s 1ms/step - loss: 0.1455 - accuracy: 0.9524\n",
      "Epoch 79/100\n",
      "874/874 [==============================] - 1s 1ms/step - loss: 0.1573 - accuracy: 0.9394\n",
      "Epoch 80/100\n",
      "874/874 [==============================] - 1s 1ms/step - loss: 0.1426 - accuracy: 0.9507\n",
      "Epoch 81/100\n",
      "874/874 [==============================] - 1s 1ms/step - loss: 0.1806 - accuracy: 0.9403\n",
      "Epoch 82/100\n",
      "874/874 [==============================] - 1s 1ms/step - loss: 0.1615 - accuracy: 0.9544\n",
      "Epoch 83/100\n",
      "874/874 [==============================] - 1s 1ms/step - loss: 0.1695 - accuracy: 0.9541\n",
      "Epoch 84/100\n",
      "874/874 [==============================] - 1s 1ms/step - loss: 0.1450 - accuracy: 0.9574\n",
      "Epoch 85/100\n",
      "874/874 [==============================] - 1s 1ms/step - loss: 0.1482 - accuracy: 0.9607\n",
      "Epoch 86/100\n",
      "874/874 [==============================] - 1s 1ms/step - loss: 0.1454 - accuracy: 0.9534\n",
      "Epoch 87/100\n",
      "874/874 [==============================] - 1s 1ms/step - loss: 0.1340 - accuracy: 0.9596\n",
      "Epoch 88/100\n",
      "874/874 [==============================] - 1s 1ms/step - loss: 0.1333 - accuracy: 0.9555\n",
      "Epoch 89/100\n",
      "874/874 [==============================] - 1s 1ms/step - loss: 0.1434 - accuracy: 0.9574\n",
      "Epoch 90/100\n",
      "874/874 [==============================] - 1s 1ms/step - loss: 0.1321 - accuracy: 0.9604\n",
      "Epoch 91/100\n",
      "874/874 [==============================] - 1s 1ms/step - loss: 0.1276 - accuracy: 0.9646\n",
      "Epoch 92/100\n",
      "874/874 [==============================] - 1s 1ms/step - loss: 0.1313 - accuracy: 0.9622\n",
      "Epoch 93/100\n",
      "874/874 [==============================] - 1s 1ms/step - loss: 0.1523 - accuracy: 0.9474\n",
      "Epoch 94/100\n",
      "874/874 [==============================] - 1s 1ms/step - loss: 0.1561 - accuracy: 0.9471\n",
      "Epoch 95/100\n",
      "874/874 [==============================] - 1s 1ms/step - loss: 0.1396 - accuracy: 0.9566\n",
      "Epoch 96/100\n",
      "874/874 [==============================] - 1s 1ms/step - loss: 0.1120 - accuracy: 0.9722\n",
      "Epoch 97/100\n",
      "874/874 [==============================] - 1s 1ms/step - loss: 0.1188 - accuracy: 0.9673\n",
      "Epoch 98/100\n",
      "874/874 [==============================] - 1s 1ms/step - loss: 0.1366 - accuracy: 0.9526\n",
      "Epoch 99/100\n",
      "874/874 [==============================] - 1s 1ms/step - loss: 0.1139 - accuracy: 0.9666\n",
      "Epoch 100/100\n",
      "874/874 [==============================] - 1s 1ms/step - loss: 0.1171 - accuracy: 0.9635\n",
      "273/273 [==============================] - 0s 973us/step - loss: 0.1004 - accuracy: 0.9655\n",
      "Accuracy: 96.55\n"
     ]
    }
   ],
   "source": [
    "model = Sequential()\n",
    "model.add(Dense(18, input_dim = 25, activation=\"sigmoid\"))\n",
    "model.add(Dense(18, activation=\"relu\"))\n",
    "model.add(Dense(16, activation=\"sigmoid\"))\n",
    "model.add(Dense(1, activation=\"sigmoid\"))\n",
    "\n",
    "model.compile(loss = \"binary_crossentropy\", optimizer=\"adam\", metrics=['accuracy'])\n",
    "\n",
    "model.fit(x_train_res, y_train_res, epochs = 100, batch_size=10)\n",
    "\n",
    "_, accuracy = model.evaluate(x_train_res, y_train_res)\n",
    "print(\"Accuracy: %.2f\" % (accuracy * 100))"
   ]
  },
  {
   "cell_type": "code",
   "execution_count": 93,
   "id": "e5d27f54",
   "metadata": {},
   "outputs": [
    {
     "name": "stdout",
     "output_type": "stream",
     "text": [
      "(175, 25) (175,)\n",
      "[[  2.           1.           0.         ...   1.20000005  64.01462027\n",
      "   43.36999893]\n",
      " [  2.           1.           0.         ...   1.20000005  64.01462027\n",
      "   43.36999893]\n",
      " [  1.           1.           0.         ...   1.5         64.01462027\n",
      "  -17.52000046]\n",
      " ...\n",
      " [  1.           3.           0.         ...   4.94950375  64.01462027\n",
      "  -15.06999969]\n",
      " [  1.           1.           0.         ...   4.94950375  64.01462027\n",
      "   41.61999893]\n",
      " [  2.           2.           0.         ...   1.          64.01462027\n",
      "    4.01999998]] [0 0 0 0 0 0 0 0 0 0 0 0 0 0 0 0 0 0 0 0 0 0 0 0 0 0 0 0 0 0 0 0 0 0 0 0 0\n",
      " 0 0 0 0 0 0 0 0 0 0 0 0 0 0 0 0 0 0 0 0 0 0 0 0 0 0 0 0 0 0 0 0 0 0 0 0 0\n",
      " 0 0 0 0 0 0 0 0 0 0 0 0 0 0 0 0 0 0 0 0 0 0 0 0 0 0 0 0 0 0 0 0 0 0 0 0 0\n",
      " 0 0 0 0 0 0 0 0 0 0 0 0 0 0 0 0 0 0 0 0 0 0 0 0 0 0 0 0 0 0 0 0 0 0 0 0 0\n",
      " 0 0 0 0 1 1 0 0 0 0 0 0 0 0 0 0 0 0 0 1 0 0 0 1 0 0 1]\n"
     ]
    }
   ],
   "source": [
    "testing_x = np.array([np.array(training_data[0, 1:])])\n",
    "testing_y = np.array([np.array([0])])\n",
    "\n",
    "testcounter = 0\n",
    "for i in training_data:\n",
    "    if testcounter >= 5:\n",
    "        break\n",
    "    if i[0] in habitable_planets:\n",
    "        testcounter += 1\n",
    "        testing_y = np.append(testing_y, 1)\n",
    "    else:\n",
    "        testing_y = np.append(testing_y, 0 )\n",
    "    testing_x = np.append(testing_x, np.array([i[1:]]), axis = 0)\n",
    "\n",
    "testing_x = np.asarray(testing_x).astype(np.float32)\n",
    "testing_x = np.where(np.isnan(testing_x), ma.array(testing_x, mask=np.isnan(testing_x)).mean(axis=0), testing_x)\n",
    "\n",
    "print(testing_x.shape, testing_y.shape)\n",
    "print(testing_x, testing_y)"
   ]
  },
  {
   "cell_type": "code",
   "execution_count": 94,
   "id": "446e8128",
   "metadata": {},
   "outputs": [
    {
     "name": "stdout",
     "output_type": "stream",
     "text": [
      "6/6 [==============================] - 0s 1ms/step - loss: 0.2239 - accuracy: 0.9257\n",
      "[0.22390079498291016, 0.9257143139839172]\n"
     ]
    }
   ],
   "source": [
    "print(model.evaluate(testing_x, testing_y))"
   ]
  },
  {
   "cell_type": "code",
   "execution_count": 102,
   "id": "8adbb898",
   "metadata": {},
   "outputs": [
    {
     "name": "stdout",
     "output_type": "stream",
     "text": [
      "1/1 [==============================] - 0s 1ms/step - loss: 0.0089 - accuracy: 1.0000\n",
      "[0.008855640888214111, 1.0]\n"
     ]
    }
   ],
   "source": [
    "test_x_2 = np.array([np.array(training_data[0, 1:])])\n",
    "for i in training_data:\n",
    "    if i[0] == \"Teegarden's Star b\":\n",
    "        test_x_2 = np.append(test_x_2, np.array([i[1:]]), axis = 0)\n",
    "        break\n",
    "\n",
    "test_x_2 = np.asarray(test_x_2).astype(np.float32)\n",
    "test_x_2 = np.where(np.isnan(test_x_2), ma.array(test_x_2, mask=np.isnan(test_x_2)).mean(axis=0), test_x_2)\n",
    "\n",
    "test_y_2 = np.array([0, 1])\n",
    "\n",
    "print(model.evaluate(test_x_2, test_y_2))"
   ]
  },
  {
   "cell_type": "code",
   "execution_count": null,
   "id": "9b96bf43",
   "metadata": {},
   "outputs": [],
   "source": []
  }
 ],
 "metadata": {
  "kernelspec": {
   "display_name": "Python 3",
   "language": "python",
   "name": "python3"
  },
  "language_info": {
   "codemirror_mode": {
    "name": "ipython",
    "version": 3
   },
   "file_extension": ".py",
   "mimetype": "text/x-python",
   "name": "python",
   "nbconvert_exporter": "python",
   "pygments_lexer": "ipython3",
   "version": "3.8.8"
  }
 },
 "nbformat": 4,
 "nbformat_minor": 5
}
