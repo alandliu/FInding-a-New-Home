{
 "cells": [
  {
   "cell_type": "code",
   "execution_count": 2,
   "id": "ca77d42d",
   "metadata": {},
   "outputs": [
    {
     "name": "stdout",
     "output_type": "stream",
     "text": [
      "(60, 25) (4366, 25) (4426, 25)\n",
      "(60,) (4366,) (4426,)\n"
     ]
    }
   ],
   "source": [
    "import numpy as np\n",
    "import numpy.ma as ma\n",
    "import pandas as pd\n",
    "from keras.models import Sequential\n",
    "from keras.layers import Dense\n",
    "from habitablePlanets import habitable_planets\n",
    "\n",
    "exoplanets = pd.read_csv(\"exoplanets3.csv\", sep=\",\")\n",
    "training_data = np.array(exoplanets[:])\n",
    "\n",
    "'''print(training_data.shape)\n",
    "print(training_data)'''\n",
    "\n",
    "habitable_x = np.array([np.array(training_data[0, :])])\n",
    "habitable_y = np.array([0])\n",
    "uninhabitable_x = np.array([np.array(training_data[0, :])])\n",
    "uninhabitable_y = np.array([0])\n",
    "\n",
    "for i in training_data:\n",
    "    if i[0] in habitable_planets:\n",
    "        habitable_x = np.append(habitable_x, np.array([np.array(i)]), axis = 0)\n",
    "        habitable_y = np.append(habitable_y, 1)\n",
    "        \n",
    "\n",
    "for i in training_data:\n",
    "    if i[0] not in habitable_planets:\n",
    "        uninhabitable_x = np.append(uninhabitable_x, np.array([np.array(i)]), axis = 0)\n",
    "        uninhabitable_y = np.append(uninhabitable_y, 0)\n",
    "\n",
    "        \n",
    "training_x = np.append(habitable_x[:, 1:], uninhabitable_x[:, 1:], axis = 0)\n",
    "training_y = np.append(habitable_y, uninhabitable_y, axis = 0)\n",
    "\n",
    "habitable_x = habitable_x[:, 1:]\n",
    "uninhabitable_x = uninhabitable_x[:, 1:]\n",
    "\n",
    "print(habitable_x.shape, uninhabitable_x.shape, training_x.shape)\n",
    "print(habitable_y.shape, uninhabitable_y.shape, training_y.shape)"
   ]
  },
  {
   "cell_type": "code",
   "execution_count": 3,
   "id": "b78ebffd",
   "metadata": {},
   "outputs": [],
   "source": [
    "from imblearn.combine import SMOTETomek\n",
    "from imblearn.over_sampling import SMOTE\n",
    "from imblearn.under_sampling import NearMiss"
   ]
  },
  {
   "cell_type": "code",
   "execution_count": 4,
   "id": "3fdcbd9e",
   "metadata": {},
   "outputs": [],
   "source": [
    "training_x = np.asarray(training_x).astype(np.float32)\n",
    "training_x = np.where(np.isnan(training_x), ma.array(training_x, mask=np.isnan(training_x)).mean(axis=0), training_x)\n",
    "habitable_x = np.asarray(habitable_x).astype(np.float32)\n",
    "habitable_x = np.where(np.isnan(habitable_x), ma.array(habitable_x, mask=np.isnan(habitable_x)).mean(axis=0), habitable_x)\n",
    "uninhabitable_x = np.asarray(uninhabitable_x).astype(np.float32)\n",
    "uninhabitable_x = np.where(np.isnan(uninhabitable_x), ma.array(uninhabitable_x, mask=np.isnan(uninhabitable_x)).mean(axis=0), uninhabitable_x)"
   ]
  },
  {
   "cell_type": "code",
   "execution_count": 5,
   "id": "965baf0e",
   "metadata": {},
   "outputs": [
    {
     "name": "stdout",
     "output_type": "stream",
     "text": [
      "(8734, 25) (8734,)\n"
     ]
    }
   ],
   "source": [
    "oversample = SMOTE()\n",
    "x_res, y_res = oversample.fit_resample(training_x, training_y)\n",
    "print(x_res.shape, y_res.shape)"
   ]
  },
  {
   "cell_type": "code",
   "execution_count": 6,
   "id": "4d8d121b",
   "metadata": {},
   "outputs": [],
   "source": [
    "from collections import Counter"
   ]
  },
  {
   "cell_type": "code",
   "execution_count": 7,
   "id": "c58777bf",
   "metadata": {},
   "outputs": [
    {
     "name": "stdout",
     "output_type": "stream",
     "text": [
      "OG dataset shape: Counter({0: 4367, 1: 59})\n",
      "New dataset shape: Counter({0: 4367, 1: 4367})\n"
     ]
    }
   ],
   "source": [
    "print(\"OG dataset shape: {}\".format(Counter(training_y)))\n",
    "print(\"New dataset shape: {}\".format(Counter(y_res)))"
   ]
  },
  {
   "cell_type": "code",
   "execution_count": 8,
   "id": "504e53fd",
   "metadata": {},
   "outputs": [
    {
     "name": "stdout",
     "output_type": "stream",
     "text": [
      "(8734, 25) (8734,)\n"
     ]
    }
   ],
   "source": [
    "from imblearn.over_sampling import RandomOverSampler\n",
    "os = SMOTE(sampling_strategy = 1)\n",
    "x_train_res, y_train_res = os.fit_resample(training_x, training_y)\n",
    "print(x_train_res.shape, y_train_res.shape)"
   ]
  },
  {
   "cell_type": "code",
   "execution_count": 25,
   "id": "5fd8ff62",
   "metadata": {},
   "outputs": [
    {
     "name": "stdout",
     "output_type": "stream",
     "text": [
      "Epoch 1/100\n",
      "874/874 [==============================] - 1s 1ms/step - loss: 0.5896 - accuracy: 0.6859\n",
      "Epoch 2/100\n",
      "874/874 [==============================] - 1s 2ms/step - loss: 0.4727 - accuracy: 0.7875\n",
      "Epoch 3/100\n",
      "874/874 [==============================] - 1s 1ms/step - loss: 0.4658 - accuracy: 0.8028\n",
      "Epoch 4/100\n",
      "874/874 [==============================] - 1s 1ms/step - loss: 0.4088 - accuracy: 0.8178\n",
      "Epoch 5/100\n",
      "874/874 [==============================] - 1s 2ms/step - loss: 0.4139 - accuracy: 0.8020: 0s - loss: 0.4185 - accuracy: 0. - ETA: 0s -\n",
      "Epoch 6/100\n",
      "874/874 [==============================] - 1s 2ms/step - loss: 0.3901 - accuracy: 0.8287\n",
      "Epoch 7/100\n",
      "874/874 [==============================] - 1s 2ms/step - loss: 0.3818 - accuracy: 0.8295\n",
      "Epoch 8/100\n",
      "874/874 [==============================] - 1s 1ms/step - loss: 0.3866 - accuracy: 0.8232\n",
      "Epoch 9/100\n",
      "874/874 [==============================] - 1s 2ms/step - loss: 0.3892 - accuracy: 0.8163\n",
      "Epoch 10/100\n",
      "874/874 [==============================] - 1s 2ms/step - loss: 0.3838 - accuracy: 0.8165: 0s - loss: 0.3793 -  - ETA: 0s - loss: 0.3835 - accuracy\n",
      "Epoch 11/100\n",
      "874/874 [==============================] - 1s 2ms/step - loss: 0.3776 - accuracy: 0.8253: 0s - loss: 0.3838 - accuracy: 0.81 - ETA: 0s - loss: 0\n",
      "Epoch 12/100\n",
      "874/874 [==============================] - 1s 2ms/step - loss: 0.3639 - accuracy: 0.8332\n",
      "Epoch 13/100\n",
      "874/874 [==============================] - 1s 2ms/step - loss: 0.3639 - accuracy: 0.8311\n",
      "Epoch 14/100\n",
      "874/874 [==============================] - 1s 2ms/step - loss: 0.2087 - accuracy: 0.9417\n",
      "Epoch 15/100\n",
      "874/874 [==============================] - 1s 2ms/step - loss: 0.1724 - accuracy: 0.9518\n",
      "Epoch 16/100\n",
      "874/874 [==============================] - 1s 2ms/step - loss: 0.1874 - accuracy: 0.9476\n",
      "Epoch 17/100\n",
      "874/874 [==============================] - 2s 2ms/step - loss: 0.1528 - accuracy: 0.9563: 0s - loss: 0.1601 \n",
      "Epoch 18/100\n",
      "874/874 [==============================] - 1s 2ms/step - loss: 0.1876 - accuracy: 0.9474\n",
      "Epoch 19/100\n",
      "874/874 [==============================] - 1s 2ms/step - loss: 0.1583 - accuracy: 0.9557\n",
      "Epoch 20/100\n",
      "874/874 [==============================] - 1s 2ms/step - loss: 0.1693 - accuracy: 0.9534: 0s - loss: 0.1624 - accu\n",
      "Epoch 21/100\n",
      "874/874 [==============================] - 1s 2ms/step - loss: 0.1645 - accuracy: 0.9511\n",
      "Epoch 22/100\n",
      "874/874 [==============================] - 2s 2ms/step - loss: 0.1684 - accuracy: 0.9524\n",
      "Epoch 23/100\n",
      "874/874 [==============================] - 1s 2ms/step - loss: 0.1966 - accuracy: 0.9384\n",
      "Epoch 24/100\n",
      "874/874 [==============================] - 1s 2ms/step - loss: 0.1626 - accuracy: 0.9511\n",
      "Epoch 25/100\n",
      "874/874 [==============================] - 1s 2ms/step - loss: 0.1538 - accuracy: 0.9580\n",
      "Epoch 26/100\n",
      "874/874 [==============================] - 1s 2ms/step - loss: 0.1646 - accuracy: 0.9515\n",
      "Epoch 27/100\n",
      "874/874 [==============================] - 1s 2ms/step - loss: 0.1593 - accuracy: 0.9528\n",
      "Epoch 28/100\n",
      "874/874 [==============================] - 1s 2ms/step - loss: 0.1514 - accuracy: 0.9572\n",
      "Epoch 29/100\n",
      "874/874 [==============================] - 1s 2ms/step - loss: 0.2399 - accuracy: 0.9316\n",
      "Epoch 30/100\n",
      "874/874 [==============================] - 1s 2ms/step - loss: 0.1921 - accuracy: 0.9456: 0s - l\n",
      "Epoch 31/100\n",
      "874/874 [==============================] - 1s 2ms/step - loss: 0.2061 - accuracy: 0.9398\n",
      "Epoch 32/100\n",
      "874/874 [==============================] - 1s 2ms/step - loss: 0.1932 - accuracy: 0.9445\n",
      "Epoch 33/100\n",
      "874/874 [==============================] - 2s 2ms/step - loss: 0.1942 - accuracy: 0.9450\n",
      "Epoch 34/100\n",
      "874/874 [==============================] - 1s 2ms/step - loss: 0.1823 - accuracy: 0.9480\n",
      "Epoch 35/100\n",
      "874/874 [==============================] - 1s 2ms/step - loss: 0.1696 - accuracy: 0.9519\n",
      "Epoch 36/100\n",
      "874/874 [==============================] - 1s 2ms/step - loss: 0.1553 - accuracy: 0.9535\n",
      "Epoch 37/100\n",
      "874/874 [==============================] - 1s 2ms/step - loss: 0.2658 - accuracy: 0.9299\n",
      "Epoch 38/100\n",
      "874/874 [==============================] - 1s 2ms/step - loss: 0.1627 - accuracy: 0.9525\n",
      "Epoch 39/100\n",
      "874/874 [==============================] - 1s 2ms/step - loss: 0.1370 - accuracy: 0.9569\n",
      "Epoch 40/100\n",
      "874/874 [==============================] - 1s 2ms/step - loss: 0.1252 - accuracy: 0.9614\n",
      "Epoch 41/100\n",
      "874/874 [==============================] - 1s 2ms/step - loss: 0.1282 - accuracy: 0.9658\n",
      "Epoch 42/100\n",
      "874/874 [==============================] - 1s 2ms/step - loss: 0.1300 - accuracy: 0.9640\n",
      "Epoch 43/100\n",
      "874/874 [==============================] - 1s 2ms/step - loss: 0.1449 - accuracy: 0.9549\n",
      "Epoch 44/100\n",
      "874/874 [==============================] - 1s 2ms/step - loss: 0.1193 - accuracy: 0.9671\n",
      "Epoch 45/100\n",
      "874/874 [==============================] - 2s 2ms/step - loss: 0.1135 - accuracy: 0.9667\n",
      "Epoch 46/100\n",
      "874/874 [==============================] - 1s 2ms/step - loss: 0.1304 - accuracy: 0.9610: 0s - los\n",
      "Epoch 47/100\n",
      "874/874 [==============================] - 1s 2ms/step - loss: 0.1229 - accuracy: 0.9649\n",
      "Epoch 48/100\n",
      "874/874 [==============================] - 2s 2ms/step - loss: 0.1268 - accuracy: 0.9604\n",
      "Epoch 49/100\n",
      "874/874 [==============================] - 1s 2ms/step - loss: 0.1407 - accuracy: 0.9561\n",
      "Epoch 50/100\n",
      "874/874 [==============================] - 1s 2ms/step - loss: 0.1262 - accuracy: 0.9649\n",
      "Epoch 51/100\n",
      "874/874 [==============================] - 1s 2ms/step - loss: 0.1074 - accuracy: 0.9730\n",
      "Epoch 52/100\n",
      "874/874 [==============================] - 1s 2ms/step - loss: 0.1698 - accuracy: 0.9567\n",
      "Epoch 53/100\n",
      "874/874 [==============================] - 1s 2ms/step - loss: 0.1485 - accuracy: 0.9565\n",
      "Epoch 54/100\n",
      "874/874 [==============================] - 1s 2ms/step - loss: 0.1381 - accuracy: 0.9611\n",
      "Epoch 55/100\n",
      "874/874 [==============================] - 1s 2ms/step - loss: 0.1447 - accuracy: 0.9604\n",
      "Epoch 56/100\n",
      "874/874 [==============================] - 1s 2ms/step - loss: 0.1681 - accuracy: 0.9523: 0s - loss:\n",
      "Epoch 57/100\n",
      "874/874 [==============================] - 1s 2ms/step - loss: 0.1492 - accuracy: 0.9566\n",
      "Epoch 58/100\n",
      "874/874 [==============================] - 1s 2ms/step - loss: 0.1466 - accuracy: 0.9580\n",
      "Epoch 59/100\n",
      "874/874 [==============================] - 1s 2ms/step - loss: 0.1525 - accuracy: 0.9532: 0s -\n",
      "Epoch 60/100\n",
      "874/874 [==============================] - 1s 2ms/step - loss: 0.2401 - accuracy: 0.9062\n",
      "Epoch 61/100\n",
      "874/874 [==============================] - 1s 2ms/step - loss: 0.1615 - accuracy: 0.9533: 0s - l\n",
      "Epoch 62/100\n",
      "874/874 [==============================] - 1s 2ms/step - loss: 0.1376 - accuracy: 0.9613\n",
      "Epoch 63/100\n",
      "874/874 [==============================] - 1s 2ms/step - loss: 0.1375 - accuracy: 0.9597\n",
      "Epoch 64/100\n",
      "874/874 [==============================] - 1s 2ms/step - loss: 0.1411 - accuracy: 0.9607\n",
      "Epoch 65/100\n",
      "874/874 [==============================] - 1s 2ms/step - loss: 0.1646 - accuracy: 0.9553\n",
      "Epoch 66/100\n",
      "874/874 [==============================] - 1s 2ms/step - loss: 0.1427 - accuracy: 0.9616\n",
      "Epoch 67/100\n",
      "874/874 [==============================] - 1s 2ms/step - loss: 0.1462 - accuracy: 0.9596\n",
      "Epoch 68/100\n",
      "874/874 [==============================] - 1s 2ms/step - loss: 0.1467 - accuracy: 0.9620\n",
      "Epoch 69/100\n",
      "874/874 [==============================] - 1s 2ms/step - loss: 0.1448 - accuracy: 0.9595\n",
      "Epoch 70/100\n",
      "874/874 [==============================] - 1s 2ms/step - loss: 0.1295 - accuracy: 0.9652\n",
      "Epoch 71/100\n",
      "874/874 [==============================] - 1s 2ms/step - loss: 0.1451 - accuracy: 0.9598\n",
      "Epoch 72/100\n",
      "874/874 [==============================] - 1s 2ms/step - loss: 0.1411 - accuracy: 0.9610\n",
      "Epoch 73/100\n",
      "874/874 [==============================] - 1s 2ms/step - loss: 0.1457 - accuracy: 0.9605\n",
      "Epoch 74/100\n",
      "874/874 [==============================] - 1s 2ms/step - loss: 0.1550 - accuracy: 0.9553\n",
      "Epoch 75/100\n",
      "874/874 [==============================] - 1s 2ms/step - loss: 0.1501 - accuracy: 0.9592\n",
      "Epoch 76/100\n",
      "874/874 [==============================] - 2s 2ms/step - loss: 0.1481 - accuracy: 0.9612\n",
      "Epoch 77/100\n",
      "874/874 [==============================] - 1s 2ms/step - loss: 0.1341 - accuracy: 0.9623\n",
      "Epoch 78/100\n",
      "874/874 [==============================] - 1s 1ms/step - loss: 0.1427 - accuracy: 0.9600\n"
     ]
    },
    {
     "name": "stdout",
     "output_type": "stream",
     "text": [
      "Epoch 79/100\n",
      "874/874 [==============================] - 1s 1ms/step - loss: 0.1317 - accuracy: 0.9646\n",
      "Epoch 80/100\n",
      "874/874 [==============================] - 1s 1ms/step - loss: 0.1353 - accuracy: 0.9636: 0s - loss: 0.144\n",
      "Epoch 81/100\n",
      "874/874 [==============================] - 1s 1ms/step - loss: 0.1350 - accuracy: 0.9624\n",
      "Epoch 82/100\n",
      "874/874 [==============================] - 1s 1ms/step - loss: 0.1388 - accuracy: 0.9627\n",
      "Epoch 83/100\n",
      "874/874 [==============================] - 1s 1ms/step - loss: 0.1435 - accuracy: 0.9591\n",
      "Epoch 84/100\n",
      "874/874 [==============================] - 1s 2ms/step - loss: 0.1324 - accuracy: 0.9642\n",
      "Epoch 85/100\n",
      "874/874 [==============================] - 1s 2ms/step - loss: 0.1430 - accuracy: 0.9596: 0s - loss: 0.1499 - accu\n",
      "Epoch 86/100\n",
      "874/874 [==============================] - 1s 1ms/step - loss: 0.1338 - accuracy: 0.9588\n",
      "Epoch 87/100\n",
      "874/874 [==============================] - 1s 1ms/step - loss: 0.1230 - accuracy: 0.9623\n",
      "Epoch 88/100\n",
      "874/874 [==============================] - 1s 2ms/step - loss: 0.1371 - accuracy: 0.9579\n",
      "Epoch 89/100\n",
      "874/874 [==============================] - 2s 2ms/step - loss: 0.1329 - accuracy: 0.9629\n",
      "Epoch 90/100\n",
      "874/874 [==============================] - 1s 2ms/step - loss: 0.1313 - accuracy: 0.9620\n",
      "Epoch 91/100\n",
      "874/874 [==============================] - 1s 2ms/step - loss: 0.1381 - accuracy: 0.9611\n",
      "Epoch 92/100\n",
      "874/874 [==============================] - 1s 1ms/step - loss: 0.1349 - accuracy: 0.9631\n",
      "Epoch 93/100\n",
      "874/874 [==============================] - 1s 1ms/step - loss: 0.1343 - accuracy: 0.9646: 0s - l\n",
      "Epoch 94/100\n",
      "874/874 [==============================] - 1s 1ms/step - loss: 0.1374 - accuracy: 0.9639\n",
      "Epoch 95/100\n",
      "874/874 [==============================] - 1s 1ms/step - loss: 0.1413 - accuracy: 0.9626\n",
      "Epoch 96/100\n",
      "874/874 [==============================] - 1s 2ms/step - loss: 0.1309 - accuracy: 0.9623\n",
      "Epoch 97/100\n",
      "874/874 [==============================] - 1s 1ms/step - loss: 0.1222 - accuracy: 0.9652\n",
      "Epoch 98/100\n",
      "874/874 [==============================] - 1s 1ms/step - loss: 0.1246 - accuracy: 0.9686\n",
      "Epoch 99/100\n",
      "874/874 [==============================] - 1s 1ms/step - loss: 0.1121 - accuracy: 0.9682\n",
      "Epoch 100/100\n",
      "874/874 [==============================] - 1s 2ms/step - loss: 0.1218 - accuracy: 0.9624\n",
      "273/273 [==============================] - 0s 1ms/step - loss: 0.1426 - accuracy: 0.9600\n",
      "Accuracy: 96.00\n",
      "Wall time: 2min 19s\n"
     ]
    }
   ],
   "source": [
    "%%time\n",
    "model = Sequential()\n",
    "model.add(Dense(18, input_dim = 25, activation=\"sigmoid\"))\n",
    "model.add(Dense(18, activation=\"relu\"))\n",
    "model.add(Dense(16, activation=\"sigmoid\"))\n",
    "model.add(Dense(1, activation=\"sigmoid\"))\n",
    "\n",
    "model.compile(loss = \"binary_crossentropy\", optimizer=\"adam\", metrics=['accuracy'])\n",
    "\n",
    "model.fit(x_train_res, y_train_res, epochs = 100, batch_size=10)\n",
    "\n",
    "_, accuracy = model.evaluate(x_train_res, y_train_res)\n",
    "print(\"Accuracy: %.2f\" % (accuracy * 100))"
   ]
  },
  {
   "cell_type": "code",
   "execution_count": 26,
   "id": "e5d27f54",
   "metadata": {},
   "outputs": [],
   "source": [
    "\n",
    "from sklearn.model_selection import train_test_split\n",
    "x_train, x_test, y_train, y_test = train_test_split(x_res, y_res, test_size = 0.2, random_state = 0)\n",
    "\n"
   ]
  },
  {
   "cell_type": "code",
   "execution_count": 24,
   "id": "446e8128",
   "metadata": {},
   "outputs": [
    {
     "ename": "ValueError",
     "evalue": "in user code:\n\n    C:\\Users\\Aland Liu\\anaconda3\\lib\\site-packages\\tensorflow\\python\\keras\\engine\\training.py:1224 test_function  *\n        return step_function(self, iterator)\n    C:\\Users\\Aland Liu\\anaconda3\\lib\\site-packages\\tensorflow\\python\\keras\\engine\\training.py:1215 step_function  **\n        outputs = model.distribute_strategy.run(run_step, args=(data,))\n    C:\\Users\\Aland Liu\\anaconda3\\lib\\site-packages\\tensorflow\\python\\distribute\\distribute_lib.py:1211 run\n        return self._extended.call_for_each_replica(fn, args=args, kwargs=kwargs)\n    C:\\Users\\Aland Liu\\anaconda3\\lib\\site-packages\\tensorflow\\python\\distribute\\distribute_lib.py:2585 call_for_each_replica\n        return self._call_for_each_replica(fn, args, kwargs)\n    C:\\Users\\Aland Liu\\anaconda3\\lib\\site-packages\\tensorflow\\python\\distribute\\distribute_lib.py:2945 _call_for_each_replica\n        return fn(*args, **kwargs)\n    C:\\Users\\Aland Liu\\anaconda3\\lib\\site-packages\\tensorflow\\python\\keras\\engine\\training.py:1208 run_step  **\n        outputs = model.test_step(data)\n    C:\\Users\\Aland Liu\\anaconda3\\lib\\site-packages\\tensorflow\\python\\keras\\engine\\training.py:1179 test_step\n        self.compiled_metrics.update_state(y, y_pred, sample_weight)\n    C:\\Users\\Aland Liu\\anaconda3\\lib\\site-packages\\tensorflow\\python\\keras\\engine\\compile_utils.py:388 update_state\n        self.build(y_pred, y_true)\n    C:\\Users\\Aland Liu\\anaconda3\\lib\\site-packages\\tensorflow\\python\\keras\\engine\\compile_utils.py:318 build\n        self._metrics = nest.map_structure_up_to(y_pred, self._get_metric_objects,\n    C:\\Users\\Aland Liu\\anaconda3\\lib\\site-packages\\tensorflow\\python\\util\\nest.py:1135 map_structure_up_to\n        return map_structure_with_tuple_paths_up_to(\n    C:\\Users\\Aland Liu\\anaconda3\\lib\\site-packages\\tensorflow\\python\\util\\nest.py:1234 map_structure_with_tuple_paths_up_to\n        results = [func(*args, **kwargs) for args in zip(flat_path_list,\n    C:\\Users\\Aland Liu\\anaconda3\\lib\\site-packages\\tensorflow\\python\\util\\nest.py:1234 <listcomp>\n        results = [func(*args, **kwargs) for args in zip(flat_path_list,\n    C:\\Users\\Aland Liu\\anaconda3\\lib\\site-packages\\tensorflow\\python\\util\\nest.py:1137 <lambda>\n        lambda _, *values: func(*values),  # Discards the path arg.\n    C:\\Users\\Aland Liu\\anaconda3\\lib\\site-packages\\tensorflow\\python\\keras\\engine\\compile_utils.py:419 _get_metric_objects\n        return [self._get_metric_object(m, y_t, y_p) for m in metrics]\n    C:\\Users\\Aland Liu\\anaconda3\\lib\\site-packages\\tensorflow\\python\\keras\\engine\\compile_utils.py:419 <listcomp>\n        return [self._get_metric_object(m, y_t, y_p) for m in metrics]\n    C:\\Users\\Aland Liu\\anaconda3\\lib\\site-packages\\tensorflow\\python\\keras\\engine\\compile_utils.py:438 _get_metric_object\n        metric_obj = metrics_mod.get(metric)\n    C:\\Users\\Aland Liu\\anaconda3\\lib\\site-packages\\tensorflow\\python\\keras\\metrics.py:3483 get\n        return deserialize(str(identifier))\n    C:\\Users\\Aland Liu\\anaconda3\\lib\\site-packages\\tensorflow\\python\\keras\\metrics.py:3439 deserialize\n        return deserialize_keras_object(\n    C:\\Users\\Aland Liu\\anaconda3\\lib\\site-packages\\tensorflow\\python\\keras\\utils\\generic_utils.py:377 deserialize_keras_object\n        raise ValueError(\n\n    ValueError: Unknown metric function: get_classification_metric\n",
     "output_type": "error",
     "traceback": [
      "\u001b[1;31m---------------------------------------------------------------------------\u001b[0m",
      "\u001b[1;31mValueError\u001b[0m                                Traceback (most recent call last)",
      "\u001b[1;32m<timed eval>\u001b[0m in \u001b[0;36m<module>\u001b[1;34m\u001b[0m\n",
      "\u001b[1;32m~\\anaconda3\\lib\\site-packages\\tensorflow\\python\\keras\\engine\\training.py\u001b[0m in \u001b[0;36m_method_wrapper\u001b[1;34m(self, *args, **kwargs)\u001b[0m\n\u001b[0;32m    106\u001b[0m   \u001b[1;32mdef\u001b[0m \u001b[0m_method_wrapper\u001b[0m\u001b[1;33m(\u001b[0m\u001b[0mself\u001b[0m\u001b[1;33m,\u001b[0m \u001b[1;33m*\u001b[0m\u001b[0margs\u001b[0m\u001b[1;33m,\u001b[0m \u001b[1;33m**\u001b[0m\u001b[0mkwargs\u001b[0m\u001b[1;33m)\u001b[0m\u001b[1;33m:\u001b[0m\u001b[1;33m\u001b[0m\u001b[1;33m\u001b[0m\u001b[0m\n\u001b[0;32m    107\u001b[0m     \u001b[1;32mif\u001b[0m \u001b[1;32mnot\u001b[0m \u001b[0mself\u001b[0m\u001b[1;33m.\u001b[0m\u001b[0m_in_multi_worker_mode\u001b[0m\u001b[1;33m(\u001b[0m\u001b[1;33m)\u001b[0m\u001b[1;33m:\u001b[0m  \u001b[1;31m# pylint: disable=protected-access\u001b[0m\u001b[1;33m\u001b[0m\u001b[1;33m\u001b[0m\u001b[0m\n\u001b[1;32m--> 108\u001b[1;33m       \u001b[1;32mreturn\u001b[0m \u001b[0mmethod\u001b[0m\u001b[1;33m(\u001b[0m\u001b[0mself\u001b[0m\u001b[1;33m,\u001b[0m \u001b[1;33m*\u001b[0m\u001b[0margs\u001b[0m\u001b[1;33m,\u001b[0m \u001b[1;33m**\u001b[0m\u001b[0mkwargs\u001b[0m\u001b[1;33m)\u001b[0m\u001b[1;33m\u001b[0m\u001b[1;33m\u001b[0m\u001b[0m\n\u001b[0m\u001b[0;32m    109\u001b[0m \u001b[1;33m\u001b[0m\u001b[0m\n\u001b[0;32m    110\u001b[0m     \u001b[1;31m# Running inside `run_distribute_coordinator` already.\u001b[0m\u001b[1;33m\u001b[0m\u001b[1;33m\u001b[0m\u001b[1;33m\u001b[0m\u001b[0m\n",
      "\u001b[1;32m~\\anaconda3\\lib\\site-packages\\tensorflow\\python\\keras\\engine\\training.py\u001b[0m in \u001b[0;36mevaluate\u001b[1;34m(self, x, y, batch_size, verbose, sample_weight, steps, callbacks, max_queue_size, workers, use_multiprocessing, return_dict)\u001b[0m\n\u001b[0;32m   1377\u001b[0m             \u001b[1;32mwith\u001b[0m \u001b[0mtrace\u001b[0m\u001b[1;33m.\u001b[0m\u001b[0mTrace\u001b[0m\u001b[1;33m(\u001b[0m\u001b[1;34m'TraceContext'\u001b[0m\u001b[1;33m,\u001b[0m \u001b[0mgraph_type\u001b[0m\u001b[1;33m=\u001b[0m\u001b[1;34m'test'\u001b[0m\u001b[1;33m,\u001b[0m \u001b[0mstep_num\u001b[0m\u001b[1;33m=\u001b[0m\u001b[0mstep\u001b[0m\u001b[1;33m)\u001b[0m\u001b[1;33m:\u001b[0m\u001b[1;33m\u001b[0m\u001b[1;33m\u001b[0m\u001b[0m\n\u001b[0;32m   1378\u001b[0m               \u001b[0mcallbacks\u001b[0m\u001b[1;33m.\u001b[0m\u001b[0mon_test_batch_begin\u001b[0m\u001b[1;33m(\u001b[0m\u001b[0mstep\u001b[0m\u001b[1;33m)\u001b[0m\u001b[1;33m\u001b[0m\u001b[1;33m\u001b[0m\u001b[0m\n\u001b[1;32m-> 1379\u001b[1;33m               \u001b[0mtmp_logs\u001b[0m \u001b[1;33m=\u001b[0m \u001b[0mtest_function\u001b[0m\u001b[1;33m(\u001b[0m\u001b[0miterator\u001b[0m\u001b[1;33m)\u001b[0m\u001b[1;33m\u001b[0m\u001b[1;33m\u001b[0m\u001b[0m\n\u001b[0m\u001b[0;32m   1380\u001b[0m               \u001b[1;32mif\u001b[0m \u001b[0mdata_handler\u001b[0m\u001b[1;33m.\u001b[0m\u001b[0mshould_sync\u001b[0m\u001b[1;33m:\u001b[0m\u001b[1;33m\u001b[0m\u001b[1;33m\u001b[0m\u001b[0m\n\u001b[0;32m   1381\u001b[0m                 \u001b[0mcontext\u001b[0m\u001b[1;33m.\u001b[0m\u001b[0masync_wait\u001b[0m\u001b[1;33m(\u001b[0m\u001b[1;33m)\u001b[0m\u001b[1;33m\u001b[0m\u001b[1;33m\u001b[0m\u001b[0m\n",
      "\u001b[1;32m~\\anaconda3\\lib\\site-packages\\tensorflow\\python\\eager\\def_function.py\u001b[0m in \u001b[0;36m__call__\u001b[1;34m(self, *args, **kwds)\u001b[0m\n\u001b[0;32m    778\u001b[0m       \u001b[1;32melse\u001b[0m\u001b[1;33m:\u001b[0m\u001b[1;33m\u001b[0m\u001b[1;33m\u001b[0m\u001b[0m\n\u001b[0;32m    779\u001b[0m         \u001b[0mcompiler\u001b[0m \u001b[1;33m=\u001b[0m \u001b[1;34m\"nonXla\"\u001b[0m\u001b[1;33m\u001b[0m\u001b[1;33m\u001b[0m\u001b[0m\n\u001b[1;32m--> 780\u001b[1;33m         \u001b[0mresult\u001b[0m \u001b[1;33m=\u001b[0m \u001b[0mself\u001b[0m\u001b[1;33m.\u001b[0m\u001b[0m_call\u001b[0m\u001b[1;33m(\u001b[0m\u001b[1;33m*\u001b[0m\u001b[0margs\u001b[0m\u001b[1;33m,\u001b[0m \u001b[1;33m**\u001b[0m\u001b[0mkwds\u001b[0m\u001b[1;33m)\u001b[0m\u001b[1;33m\u001b[0m\u001b[1;33m\u001b[0m\u001b[0m\n\u001b[0m\u001b[0;32m    781\u001b[0m \u001b[1;33m\u001b[0m\u001b[0m\n\u001b[0;32m    782\u001b[0m       \u001b[0mnew_tracing_count\u001b[0m \u001b[1;33m=\u001b[0m \u001b[0mself\u001b[0m\u001b[1;33m.\u001b[0m\u001b[0m_get_tracing_count\u001b[0m\u001b[1;33m(\u001b[0m\u001b[1;33m)\u001b[0m\u001b[1;33m\u001b[0m\u001b[1;33m\u001b[0m\u001b[0m\n",
      "\u001b[1;32m~\\anaconda3\\lib\\site-packages\\tensorflow\\python\\eager\\def_function.py\u001b[0m in \u001b[0;36m_call\u001b[1;34m(self, *args, **kwds)\u001b[0m\n\u001b[0;32m    821\u001b[0m       \u001b[1;31m# This is the first call of __call__, so we have to initialize.\u001b[0m\u001b[1;33m\u001b[0m\u001b[1;33m\u001b[0m\u001b[1;33m\u001b[0m\u001b[0m\n\u001b[0;32m    822\u001b[0m       \u001b[0minitializers\u001b[0m \u001b[1;33m=\u001b[0m \u001b[1;33m[\u001b[0m\u001b[1;33m]\u001b[0m\u001b[1;33m\u001b[0m\u001b[1;33m\u001b[0m\u001b[0m\n\u001b[1;32m--> 823\u001b[1;33m       \u001b[0mself\u001b[0m\u001b[1;33m.\u001b[0m\u001b[0m_initialize\u001b[0m\u001b[1;33m(\u001b[0m\u001b[0margs\u001b[0m\u001b[1;33m,\u001b[0m \u001b[0mkwds\u001b[0m\u001b[1;33m,\u001b[0m \u001b[0madd_initializers_to\u001b[0m\u001b[1;33m=\u001b[0m\u001b[0minitializers\u001b[0m\u001b[1;33m)\u001b[0m\u001b[1;33m\u001b[0m\u001b[1;33m\u001b[0m\u001b[0m\n\u001b[0m\u001b[0;32m    824\u001b[0m     \u001b[1;32mfinally\u001b[0m\u001b[1;33m:\u001b[0m\u001b[1;33m\u001b[0m\u001b[1;33m\u001b[0m\u001b[0m\n\u001b[0;32m    825\u001b[0m       \u001b[1;31m# At this point we know that the initialization is complete (or less\u001b[0m\u001b[1;33m\u001b[0m\u001b[1;33m\u001b[0m\u001b[1;33m\u001b[0m\u001b[0m\n",
      "\u001b[1;32m~\\anaconda3\\lib\\site-packages\\tensorflow\\python\\eager\\def_function.py\u001b[0m in \u001b[0;36m_initialize\u001b[1;34m(self, args, kwds, add_initializers_to)\u001b[0m\n\u001b[0;32m    694\u001b[0m     \u001b[0mself\u001b[0m\u001b[1;33m.\u001b[0m\u001b[0m_graph_deleter\u001b[0m \u001b[1;33m=\u001b[0m \u001b[0mFunctionDeleter\u001b[0m\u001b[1;33m(\u001b[0m\u001b[0mself\u001b[0m\u001b[1;33m.\u001b[0m\u001b[0m_lifted_initializer_graph\u001b[0m\u001b[1;33m)\u001b[0m\u001b[1;33m\u001b[0m\u001b[1;33m\u001b[0m\u001b[0m\n\u001b[0;32m    695\u001b[0m     self._concrete_stateful_fn = (\n\u001b[1;32m--> 696\u001b[1;33m         self._stateful_fn._get_concrete_function_internal_garbage_collected(  # pylint: disable=protected-access\n\u001b[0m\u001b[0;32m    697\u001b[0m             *args, **kwds))\n\u001b[0;32m    698\u001b[0m \u001b[1;33m\u001b[0m\u001b[0m\n",
      "\u001b[1;32m~\\anaconda3\\lib\\site-packages\\tensorflow\\python\\eager\\function.py\u001b[0m in \u001b[0;36m_get_concrete_function_internal_garbage_collected\u001b[1;34m(self, *args, **kwargs)\u001b[0m\n\u001b[0;32m   2853\u001b[0m       \u001b[0margs\u001b[0m\u001b[1;33m,\u001b[0m \u001b[0mkwargs\u001b[0m \u001b[1;33m=\u001b[0m \u001b[1;32mNone\u001b[0m\u001b[1;33m,\u001b[0m \u001b[1;32mNone\u001b[0m\u001b[1;33m\u001b[0m\u001b[1;33m\u001b[0m\u001b[0m\n\u001b[0;32m   2854\u001b[0m     \u001b[1;32mwith\u001b[0m \u001b[0mself\u001b[0m\u001b[1;33m.\u001b[0m\u001b[0m_lock\u001b[0m\u001b[1;33m:\u001b[0m\u001b[1;33m\u001b[0m\u001b[1;33m\u001b[0m\u001b[0m\n\u001b[1;32m-> 2855\u001b[1;33m       \u001b[0mgraph_function\u001b[0m\u001b[1;33m,\u001b[0m \u001b[0m_\u001b[0m\u001b[1;33m,\u001b[0m \u001b[0m_\u001b[0m \u001b[1;33m=\u001b[0m \u001b[0mself\u001b[0m\u001b[1;33m.\u001b[0m\u001b[0m_maybe_define_function\u001b[0m\u001b[1;33m(\u001b[0m\u001b[0margs\u001b[0m\u001b[1;33m,\u001b[0m \u001b[0mkwargs\u001b[0m\u001b[1;33m)\u001b[0m\u001b[1;33m\u001b[0m\u001b[1;33m\u001b[0m\u001b[0m\n\u001b[0m\u001b[0;32m   2856\u001b[0m     \u001b[1;32mreturn\u001b[0m \u001b[0mgraph_function\u001b[0m\u001b[1;33m\u001b[0m\u001b[1;33m\u001b[0m\u001b[0m\n\u001b[0;32m   2857\u001b[0m \u001b[1;33m\u001b[0m\u001b[0m\n",
      "\u001b[1;32m~\\anaconda3\\lib\\site-packages\\tensorflow\\python\\eager\\function.py\u001b[0m in \u001b[0;36m_maybe_define_function\u001b[1;34m(self, args, kwargs)\u001b[0m\n\u001b[0;32m   3211\u001b[0m \u001b[1;33m\u001b[0m\u001b[0m\n\u001b[0;32m   3212\u001b[0m       \u001b[0mself\u001b[0m\u001b[1;33m.\u001b[0m\u001b[0m_function_cache\u001b[0m\u001b[1;33m.\u001b[0m\u001b[0mmissed\u001b[0m\u001b[1;33m.\u001b[0m\u001b[0madd\u001b[0m\u001b[1;33m(\u001b[0m\u001b[0mcall_context_key\u001b[0m\u001b[1;33m)\u001b[0m\u001b[1;33m\u001b[0m\u001b[1;33m\u001b[0m\u001b[0m\n\u001b[1;32m-> 3213\u001b[1;33m       \u001b[0mgraph_function\u001b[0m \u001b[1;33m=\u001b[0m \u001b[0mself\u001b[0m\u001b[1;33m.\u001b[0m\u001b[0m_create_graph_function\u001b[0m\u001b[1;33m(\u001b[0m\u001b[0margs\u001b[0m\u001b[1;33m,\u001b[0m \u001b[0mkwargs\u001b[0m\u001b[1;33m)\u001b[0m\u001b[1;33m\u001b[0m\u001b[1;33m\u001b[0m\u001b[0m\n\u001b[0m\u001b[0;32m   3214\u001b[0m       \u001b[0mself\u001b[0m\u001b[1;33m.\u001b[0m\u001b[0m_function_cache\u001b[0m\u001b[1;33m.\u001b[0m\u001b[0mprimary\u001b[0m\u001b[1;33m[\u001b[0m\u001b[0mcache_key\u001b[0m\u001b[1;33m]\u001b[0m \u001b[1;33m=\u001b[0m \u001b[0mgraph_function\u001b[0m\u001b[1;33m\u001b[0m\u001b[1;33m\u001b[0m\u001b[0m\n\u001b[0;32m   3215\u001b[0m       \u001b[1;32mreturn\u001b[0m \u001b[0mgraph_function\u001b[0m\u001b[1;33m,\u001b[0m \u001b[0margs\u001b[0m\u001b[1;33m,\u001b[0m \u001b[0mkwargs\u001b[0m\u001b[1;33m\u001b[0m\u001b[1;33m\u001b[0m\u001b[0m\n",
      "\u001b[1;32m~\\anaconda3\\lib\\site-packages\\tensorflow\\python\\eager\\function.py\u001b[0m in \u001b[0;36m_create_graph_function\u001b[1;34m(self, args, kwargs, override_flat_arg_shapes)\u001b[0m\n\u001b[0;32m   3063\u001b[0m     \u001b[0marg_names\u001b[0m \u001b[1;33m=\u001b[0m \u001b[0mbase_arg_names\u001b[0m \u001b[1;33m+\u001b[0m \u001b[0mmissing_arg_names\u001b[0m\u001b[1;33m\u001b[0m\u001b[1;33m\u001b[0m\u001b[0m\n\u001b[0;32m   3064\u001b[0m     graph_function = ConcreteFunction(\n\u001b[1;32m-> 3065\u001b[1;33m         func_graph_module.func_graph_from_py_func(\n\u001b[0m\u001b[0;32m   3066\u001b[0m             \u001b[0mself\u001b[0m\u001b[1;33m.\u001b[0m\u001b[0m_name\u001b[0m\u001b[1;33m,\u001b[0m\u001b[1;33m\u001b[0m\u001b[1;33m\u001b[0m\u001b[0m\n\u001b[0;32m   3067\u001b[0m             \u001b[0mself\u001b[0m\u001b[1;33m.\u001b[0m\u001b[0m_python_function\u001b[0m\u001b[1;33m,\u001b[0m\u001b[1;33m\u001b[0m\u001b[1;33m\u001b[0m\u001b[0m\n",
      "\u001b[1;32m~\\anaconda3\\lib\\site-packages\\tensorflow\\python\\framework\\func_graph.py\u001b[0m in \u001b[0;36mfunc_graph_from_py_func\u001b[1;34m(name, python_func, args, kwargs, signature, func_graph, autograph, autograph_options, add_control_dependencies, arg_names, op_return_value, collections, capture_by_value, override_flat_arg_shapes)\u001b[0m\n\u001b[0;32m    984\u001b[0m         \u001b[0m_\u001b[0m\u001b[1;33m,\u001b[0m \u001b[0moriginal_func\u001b[0m \u001b[1;33m=\u001b[0m \u001b[0mtf_decorator\u001b[0m\u001b[1;33m.\u001b[0m\u001b[0munwrap\u001b[0m\u001b[1;33m(\u001b[0m\u001b[0mpython_func\u001b[0m\u001b[1;33m)\u001b[0m\u001b[1;33m\u001b[0m\u001b[1;33m\u001b[0m\u001b[0m\n\u001b[0;32m    985\u001b[0m \u001b[1;33m\u001b[0m\u001b[0m\n\u001b[1;32m--> 986\u001b[1;33m       \u001b[0mfunc_outputs\u001b[0m \u001b[1;33m=\u001b[0m \u001b[0mpython_func\u001b[0m\u001b[1;33m(\u001b[0m\u001b[1;33m*\u001b[0m\u001b[0mfunc_args\u001b[0m\u001b[1;33m,\u001b[0m \u001b[1;33m**\u001b[0m\u001b[0mfunc_kwargs\u001b[0m\u001b[1;33m)\u001b[0m\u001b[1;33m\u001b[0m\u001b[1;33m\u001b[0m\u001b[0m\n\u001b[0m\u001b[0;32m    987\u001b[0m \u001b[1;33m\u001b[0m\u001b[0m\n\u001b[0;32m    988\u001b[0m       \u001b[1;31m# invariant: `func_outputs` contains only Tensors, CompositeTensors,\u001b[0m\u001b[1;33m\u001b[0m\u001b[1;33m\u001b[0m\u001b[1;33m\u001b[0m\u001b[0m\n",
      "\u001b[1;32m~\\anaconda3\\lib\\site-packages\\tensorflow\\python\\eager\\def_function.py\u001b[0m in \u001b[0;36mwrapped_fn\u001b[1;34m(*args, **kwds)\u001b[0m\n\u001b[0;32m    598\u001b[0m         \u001b[1;31m# __wrapped__ allows AutoGraph to swap in a converted function. We give\u001b[0m\u001b[1;33m\u001b[0m\u001b[1;33m\u001b[0m\u001b[1;33m\u001b[0m\u001b[0m\n\u001b[0;32m    599\u001b[0m         \u001b[1;31m# the function a weak reference to itself to avoid a reference cycle.\u001b[0m\u001b[1;33m\u001b[0m\u001b[1;33m\u001b[0m\u001b[1;33m\u001b[0m\u001b[0m\n\u001b[1;32m--> 600\u001b[1;33m         \u001b[1;32mreturn\u001b[0m \u001b[0mweak_wrapped_fn\u001b[0m\u001b[1;33m(\u001b[0m\u001b[1;33m)\u001b[0m\u001b[1;33m.\u001b[0m\u001b[0m__wrapped__\u001b[0m\u001b[1;33m(\u001b[0m\u001b[1;33m*\u001b[0m\u001b[0margs\u001b[0m\u001b[1;33m,\u001b[0m \u001b[1;33m**\u001b[0m\u001b[0mkwds\u001b[0m\u001b[1;33m)\u001b[0m\u001b[1;33m\u001b[0m\u001b[1;33m\u001b[0m\u001b[0m\n\u001b[0m\u001b[0;32m    601\u001b[0m     \u001b[0mweak_wrapped_fn\u001b[0m \u001b[1;33m=\u001b[0m \u001b[0mweakref\u001b[0m\u001b[1;33m.\u001b[0m\u001b[0mref\u001b[0m\u001b[1;33m(\u001b[0m\u001b[0mwrapped_fn\u001b[0m\u001b[1;33m)\u001b[0m\u001b[1;33m\u001b[0m\u001b[1;33m\u001b[0m\u001b[0m\n\u001b[0;32m    602\u001b[0m \u001b[1;33m\u001b[0m\u001b[0m\n",
      "\u001b[1;32m~\\anaconda3\\lib\\site-packages\\tensorflow\\python\\framework\\func_graph.py\u001b[0m in \u001b[0;36mwrapper\u001b[1;34m(*args, **kwargs)\u001b[0m\n\u001b[0;32m    971\u001b[0m           \u001b[1;32mexcept\u001b[0m \u001b[0mException\u001b[0m \u001b[1;32mas\u001b[0m \u001b[0me\u001b[0m\u001b[1;33m:\u001b[0m  \u001b[1;31m# pylint:disable=broad-except\u001b[0m\u001b[1;33m\u001b[0m\u001b[1;33m\u001b[0m\u001b[0m\n\u001b[0;32m    972\u001b[0m             \u001b[1;32mif\u001b[0m \u001b[0mhasattr\u001b[0m\u001b[1;33m(\u001b[0m\u001b[0me\u001b[0m\u001b[1;33m,\u001b[0m \u001b[1;34m\"ag_error_metadata\"\u001b[0m\u001b[1;33m)\u001b[0m\u001b[1;33m:\u001b[0m\u001b[1;33m\u001b[0m\u001b[1;33m\u001b[0m\u001b[0m\n\u001b[1;32m--> 973\u001b[1;33m               \u001b[1;32mraise\u001b[0m \u001b[0me\u001b[0m\u001b[1;33m.\u001b[0m\u001b[0mag_error_metadata\u001b[0m\u001b[1;33m.\u001b[0m\u001b[0mto_exception\u001b[0m\u001b[1;33m(\u001b[0m\u001b[0me\u001b[0m\u001b[1;33m)\u001b[0m\u001b[1;33m\u001b[0m\u001b[1;33m\u001b[0m\u001b[0m\n\u001b[0m\u001b[0;32m    974\u001b[0m             \u001b[1;32melse\u001b[0m\u001b[1;33m:\u001b[0m\u001b[1;33m\u001b[0m\u001b[1;33m\u001b[0m\u001b[0m\n\u001b[0;32m    975\u001b[0m               \u001b[1;32mraise\u001b[0m\u001b[1;33m\u001b[0m\u001b[1;33m\u001b[0m\u001b[0m\n",
      "\u001b[1;31mValueError\u001b[0m: in user code:\n\n    C:\\Users\\Aland Liu\\anaconda3\\lib\\site-packages\\tensorflow\\python\\keras\\engine\\training.py:1224 test_function  *\n        return step_function(self, iterator)\n    C:\\Users\\Aland Liu\\anaconda3\\lib\\site-packages\\tensorflow\\python\\keras\\engine\\training.py:1215 step_function  **\n        outputs = model.distribute_strategy.run(run_step, args=(data,))\n    C:\\Users\\Aland Liu\\anaconda3\\lib\\site-packages\\tensorflow\\python\\distribute\\distribute_lib.py:1211 run\n        return self._extended.call_for_each_replica(fn, args=args, kwargs=kwargs)\n    C:\\Users\\Aland Liu\\anaconda3\\lib\\site-packages\\tensorflow\\python\\distribute\\distribute_lib.py:2585 call_for_each_replica\n        return self._call_for_each_replica(fn, args, kwargs)\n    C:\\Users\\Aland Liu\\anaconda3\\lib\\site-packages\\tensorflow\\python\\distribute\\distribute_lib.py:2945 _call_for_each_replica\n        return fn(*args, **kwargs)\n    C:\\Users\\Aland Liu\\anaconda3\\lib\\site-packages\\tensorflow\\python\\keras\\engine\\training.py:1208 run_step  **\n        outputs = model.test_step(data)\n    C:\\Users\\Aland Liu\\anaconda3\\lib\\site-packages\\tensorflow\\python\\keras\\engine\\training.py:1179 test_step\n        self.compiled_metrics.update_state(y, y_pred, sample_weight)\n    C:\\Users\\Aland Liu\\anaconda3\\lib\\site-packages\\tensorflow\\python\\keras\\engine\\compile_utils.py:388 update_state\n        self.build(y_pred, y_true)\n    C:\\Users\\Aland Liu\\anaconda3\\lib\\site-packages\\tensorflow\\python\\keras\\engine\\compile_utils.py:318 build\n        self._metrics = nest.map_structure_up_to(y_pred, self._get_metric_objects,\n    C:\\Users\\Aland Liu\\anaconda3\\lib\\site-packages\\tensorflow\\python\\util\\nest.py:1135 map_structure_up_to\n        return map_structure_with_tuple_paths_up_to(\n    C:\\Users\\Aland Liu\\anaconda3\\lib\\site-packages\\tensorflow\\python\\util\\nest.py:1234 map_structure_with_tuple_paths_up_to\n        results = [func(*args, **kwargs) for args in zip(flat_path_list,\n    C:\\Users\\Aland Liu\\anaconda3\\lib\\site-packages\\tensorflow\\python\\util\\nest.py:1234 <listcomp>\n        results = [func(*args, **kwargs) for args in zip(flat_path_list,\n    C:\\Users\\Aland Liu\\anaconda3\\lib\\site-packages\\tensorflow\\python\\util\\nest.py:1137 <lambda>\n        lambda _, *values: func(*values),  # Discards the path arg.\n    C:\\Users\\Aland Liu\\anaconda3\\lib\\site-packages\\tensorflow\\python\\keras\\engine\\compile_utils.py:419 _get_metric_objects\n        return [self._get_metric_object(m, y_t, y_p) for m in metrics]\n    C:\\Users\\Aland Liu\\anaconda3\\lib\\site-packages\\tensorflow\\python\\keras\\engine\\compile_utils.py:419 <listcomp>\n        return [self._get_metric_object(m, y_t, y_p) for m in metrics]\n    C:\\Users\\Aland Liu\\anaconda3\\lib\\site-packages\\tensorflow\\python\\keras\\engine\\compile_utils.py:438 _get_metric_object\n        metric_obj = metrics_mod.get(metric)\n    C:\\Users\\Aland Liu\\anaconda3\\lib\\site-packages\\tensorflow\\python\\keras\\metrics.py:3483 get\n        return deserialize(str(identifier))\n    C:\\Users\\Aland Liu\\anaconda3\\lib\\site-packages\\tensorflow\\python\\keras\\metrics.py:3439 deserialize\n        return deserialize_keras_object(\n    C:\\Users\\Aland Liu\\anaconda3\\lib\\site-packages\\tensorflow\\python\\keras\\utils\\generic_utils.py:377 deserialize_keras_object\n        raise ValueError(\n\n    ValueError: Unknown metric function: get_classification_metric\n"
     ]
    }
   ],
   "source": [
    "%%time\n",
    "print(model.evaluate(x_test, y_test))"
   ]
  },
  {
   "cell_type": "code",
   "execution_count": 102,
   "id": "8adbb898",
   "metadata": {},
   "outputs": [
    {
     "name": "stdout",
     "output_type": "stream",
     "text": [
      "1/1 [==============================] - 0s 1ms/step - loss: 0.0089 - accuracy: 1.0000\n",
      "[0.008855640888214111, 1.0]\n"
     ]
    }
   ],
   "source": [
    "test_x_2 = np.array([np.array(training_data[0, 1:])])\n",
    "for i in training_data:\n",
    "    if i[0] == \"Teegarden's Star b\":\n",
    "        test_x_2 = np.append(test_x_2, np.array([i[1:]]), axis = 0)\n",
    "        break\n",
    "\n",
    "test_x_2 = np.asarray(test_x_2).astype(np.float32)\n",
    "test_x_2 = np.where(np.isnan(test_x_2), ma.array(test_x_2, mask=np.isnan(test_x_2)).mean(axis=0), test_x_2)\n",
    "\n",
    "test_y_2 = np.array([0, 1])\n",
    "\n",
    "print(model.evaluate(test_x_2, test_y_2))"
   ]
  },
  {
   "cell_type": "code",
   "execution_count": null,
   "id": "9b96bf43",
   "metadata": {},
   "outputs": [],
   "source": []
  }
 ],
 "metadata": {
  "kernelspec": {
   "display_name": "Python 3",
   "language": "python",
   "name": "python3"
  },
  "language_info": {
   "codemirror_mode": {
    "name": "ipython",
    "version": 3
   },
   "file_extension": ".py",
   "mimetype": "text/x-python",
   "name": "python",
   "nbconvert_exporter": "python",
   "pygments_lexer": "ipython3",
   "version": "3.8.8"
  }
 },
 "nbformat": 4,
 "nbformat_minor": 5
}
