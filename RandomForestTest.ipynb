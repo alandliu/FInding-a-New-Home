{
 "cells": [
  {
   "cell_type": "code",
   "execution_count": 8,
   "id": "46fe6876",
   "metadata": {},
   "outputs": [
    {
     "name": "stdout",
     "output_type": "stream",
     "text": [
      "(60, 25) (4366, 25) (4426, 25)\n",
      "(60,) (4366,) (4426,)\n"
     ]
    }
   ],
   "source": [
    "import numpy as np\n",
    "import numpy.ma as ma\n",
    "import pandas as pd\n",
    "from keras.models import Sequential\n",
    "from keras.layers import Dense\n",
    "from habitablePlanets import habitable_planets\n",
    "\n",
    "exoplanets = pd.read_csv(\"exoplanets3.csv\", sep=\",\")\n",
    "training_data = np.array(exoplanets[:])\n",
    "\n",
    "'''print(training_data.shape)\n",
    "print(training_data)'''\n",
    "\n",
    "habitable_x = np.array([np.array(training_data[0, :])])\n",
    "habitable_y = np.array([0])\n",
    "uninhabitable_x = np.array([np.array(training_data[0, :])])\n",
    "uninhabitable_y = np.array([0])\n",
    "\n",
    "for i in training_data:\n",
    "    if i[0] in habitable_planets:\n",
    "        habitable_x = np.append(habitable_x, np.array([np.array(i)]), axis = 0)\n",
    "        habitable_y = np.append(habitable_y, 1)\n",
    "        \n",
    "\n",
    "for i in training_data:\n",
    "    if i[0] not in habitable_planets:\n",
    "        uninhabitable_x = np.append(uninhabitable_x, np.array([np.array(i)]), axis = 0)\n",
    "        uninhabitable_y = np.append(uninhabitable_y, 0)\n",
    "\n",
    "        \n",
    "training_x = np.append(habitable_x[:, 1:], uninhabitable_x[:, 1:], axis = 0)\n",
    "training_y = np.append(habitable_y, uninhabitable_y, axis = 0)\n",
    "\n",
    "habitable_x = habitable_x[:, 1:]\n",
    "uninhabitable_x = uninhabitable_x[:, 1:]\n",
    "\n",
    "print(habitable_x.shape, uninhabitable_x.shape, training_x.shape)\n",
    "print(habitable_y.shape, uninhabitable_y.shape, training_y.shape)"
   ]
  },
  {
   "cell_type": "code",
   "execution_count": 9,
   "id": "4ff61e5d",
   "metadata": {},
   "outputs": [
    {
     "name": "stdout",
     "output_type": "stream",
     "text": [
      "(8734, 25) (8734,)\n",
      "OG dataset shape: Counter({0: 4367, 1: 59})\n",
      "New dataset shape: Counter({0: 4367, 1: 4367})\n"
     ]
    }
   ],
   "source": [
    "from imblearn.combine import SMOTETomek\n",
    "from imblearn.over_sampling import SMOTE\n",
    "from imblearn.under_sampling import NearMiss\n",
    "from collections import Counter\n",
    "\n",
    "training_x = np.asarray(training_x).astype(np.float32)\n",
    "training_x = np.where(np.isnan(training_x), ma.array(training_x, mask=np.isnan(training_x)).mean(axis=0), training_x)\n",
    "\n",
    "oversample = SMOTE()\n",
    "x_res, y_res = oversample.fit_resample(training_x, training_y)\n",
    "print(x_res.shape, y_res.shape)\n",
    "print(\"OG dataset shape: {}\".format(Counter(training_y)))\n",
    "print(\"New dataset shape: {}\".format(Counter(y_res)))"
   ]
  },
  {
   "cell_type": "code",
   "execution_count": null,
   "id": "e1e99a1b",
   "metadata": {},
   "outputs": [],
   "source": []
  },
  {
   "cell_type": "code",
   "execution_count": 10,
   "id": "d9be212a",
   "metadata": {},
   "outputs": [],
   "source": [
    "from sklearn.model_selection import train_test_split\n",
    "x_train, x_test, y_train, y_test = train_test_split(x_res, y_res, test_size = 0.2, random_state = 0)"
   ]
  },
  {
   "cell_type": "code",
   "execution_count": 11,
   "id": "1759f40c",
   "metadata": {},
   "outputs": [
    {
     "data": {
      "text/plain": [
       "'\\nfrom sklearn.preprocessing import StandardScaler\\nsc = StandardScaler()\\nx_train = sc.fit_transform(x_train)\\nx_test = sc.fit_transform(x_test)'"
      ]
     },
     "execution_count": 11,
     "metadata": {},
     "output_type": "execute_result"
    }
   ],
   "source": [
    "#feature scaling\n",
    "'''\n",
    "from sklearn.preprocessing import StandardScaler\n",
    "sc = StandardScaler()\n",
    "x_train = sc.fit_transform(x_train)\n",
    "x_test = sc.fit_transform(x_test)'''"
   ]
  },
  {
   "cell_type": "code",
   "execution_count": 12,
   "id": "c4ec3f34",
   "metadata": {},
   "outputs": [
    {
     "name": "stdout",
     "output_type": "stream",
     "text": [
      "1.0\n"
     ]
    }
   ],
   "source": [
    "from sklearn.ensemble import RandomForestClassifier\n",
    "classifier = RandomForestClassifier(n_estimators=11, random_state=0)\n",
    "classifier.fit(x_train, y_train)\n",
    "print(classifier.score(x_train, y_train))\n",
    "y_pred = classifier.predict(x_test)"
   ]
  },
  {
   "cell_type": "code",
   "execution_count": 13,
   "id": "b275b88e",
   "metadata": {},
   "outputs": [
    {
     "name": "stdout",
     "output_type": "stream",
     "text": [
      "[[858   5]\n",
      " [  1 883]]\n",
      "              precision    recall  f1-score   support\n",
      "\n",
      "           0       1.00      0.99      1.00       863\n",
      "           1       0.99      1.00      1.00       884\n",
      "\n",
      "    accuracy                           1.00      1747\n",
      "   macro avg       1.00      1.00      1.00      1747\n",
      "weighted avg       1.00      1.00      1.00      1747\n",
      "\n",
      "0.996565540927304\n"
     ]
    }
   ],
   "source": [
    "from sklearn.metrics import classification_report, confusion_matrix, accuracy_score\n",
    "print(confusion_matrix(y_test, y_pred))\n",
    "print(classification_report(y_test, y_pred))\n",
    "print(accuracy_score(y_test, y_pred))"
   ]
  },
  {
   "cell_type": "code",
   "execution_count": 16,
   "id": "1eb4443f",
   "metadata": {},
   "outputs": [
    {
     "name": "stdout",
     "output_type": "stream",
     "text": [
      "[[858   5]\n",
      " [  1 883]]\n",
      "              precision    recall  f1-score   support\n",
      "\n",
      "         0.0       1.00      0.99      1.00       863\n",
      "         1.0       0.99      1.00      1.00       884\n",
      "\n",
      "    accuracy                           1.00      1747\n",
      "   macro avg       1.00      1.00      1.00      1747\n",
      "weighted avg       1.00      1.00      1.00      1747\n",
      "\n",
      "0.996565540927304\n",
      "Wall time: 42.9 ms\n"
     ]
    }
   ],
   "source": [
    "%%time\n",
    "\n",
    "y_pred = classifier.predict(x_test)\n",
    "print(confusion_matrix(y_test, y_pred))\n",
    "print(classification_report(y_test, y_pred))\n",
    "print(accuracy_score(y_test, y_pred))"
   ]
  },
  {
   "cell_type": "code",
   "execution_count": 17,
   "id": "20a18dc3",
   "metadata": {},
   "outputs": [
    {
     "name": "stdout",
     "output_type": "stream",
     "text": [
      "858 5 1 883\n"
     ]
    }
   ],
   "source": [
    "tn, fp, fn, tp = confusion_matrix(y_test, y_pred).ravel()\n",
    "print(tn, fp, fn, tp)"
   ]
  },
  {
   "cell_type": "code",
   "execution_count": null,
   "id": "caf9bc19",
   "metadata": {},
   "outputs": [],
   "source": []
  }
 ],
 "metadata": {
  "kernelspec": {
   "display_name": "Python 3",
   "language": "python",
   "name": "python3"
  },
  "language_info": {
   "codemirror_mode": {
    "name": "ipython",
    "version": 3
   },
   "file_extension": ".py",
   "mimetype": "text/x-python",
   "name": "python",
   "nbconvert_exporter": "python",
   "pygments_lexer": "ipython3",
   "version": "3.8.8"
  }
 },
 "nbformat": 4,
 "nbformat_minor": 5
}
